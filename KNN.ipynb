{
 "cells": [
  {
   "cell_type": "code",
   "execution_count": 1,
   "metadata": {
    "scrolled": true
   },
   "outputs": [],
   "source": [
    "import numpy as np\n",
    "import math"
   ]
  },
  {
   "cell_type": "markdown",
   "metadata": {},
   "source": [
    "create a function to calculate the distance between any row and the training data \n"
   ]
  },
  {
   "cell_type": "code",
   "execution_count": 2,
   "metadata": {
    "scrolled": true
   },
   "outputs": [],
   "source": [
    "# function to calculate distance between two rows\n",
    "def distance(row1, row2):\n",
    "    # row[:-1] beacause the label shouldn't be included\n",
    "    distance = (row2[:-1] - row1[:-1])**2\n",
    "    sum = 0\n",
    "    for i in distance:\n",
    "        sum += i\n",
    "    return math.sqrt(sum)"
   ]
  },
  {
   "cell_type": "markdown",
   "metadata": {},
   "source": [
    "next will create a function to return an array containing the distances between a certain row and the whole training dataset"
   ]
  },
  {
   "cell_type": "code",
   "execution_count": 3,
   "metadata": {
    "scrolled": true
   },
   "outputs": [],
   "source": [
    "# find the distance array between the sample row and the complete dataset\n",
    "# returns an array of distances\n",
    "def distances_array(example, dataset):\n",
    "    distances = np.empty((0,2), int)\n",
    "    id_ = 0\n",
    "    for row in dataset:\n",
    "        distances = np.append(distances, np.array([[id_, distance(example, row)]]), axis=0) # must return id and distance\n",
    "        id_ += 1\n",
    "    return distances"
   ]
  },
  {
   "cell_type": "markdown",
   "metadata": {},
   "source": [
    "to get the K-NN we need to sort the array resulting from the distances_array() and return the first K neighbors as an array"
   ]
  },
  {
   "cell_type": "code",
   "execution_count": 4,
   "metadata": {},
   "outputs": [],
   "source": [
    "# k neighbours array \n",
    "# outputs the nearest K neighbors to a data example \n",
    "# returns an array with the nearest K neighbours and their id's\n",
    "def k_neighbours(row, K, dataset):\n",
    "    all_data = distances_array(row, dataset)\n",
    "    sorted_all_data =  all_data[np.argsort(all_data[:,1])]\n",
    "    KNN = sorted_all_data[:K]\n",
    "    return KNN\n",
    "    "
   ]
  },
  {
   "cell_type": "markdown",
   "metadata": {},
   "source": [
    "the below predict function will use the row, and k_neighbours() to predict the outcome and return the accuracy:"
   ]
  },
  {
   "cell_type": "code",
   "execution_count": 5,
   "metadata": {},
   "outputs": [],
   "source": [
    "def predict2(row, k, dataset_train):\n",
    "    x = k_neighbours(row, k, dataset_train)\n",
    "    ids = np.array([int(id[0]) for id in x])\n",
    "    neighbors_labels = []\n",
    "    for example in range(len(dataset_train)):\n",
    "        for id_ in ids:\n",
    "            if id_ == example:\n",
    "                neighbors_labels.append(int(dataset_train[example][-1]))            \n",
    "    true_label = row[-1]\n",
    "    neighbors_labels_set = set(neighbors_labels)\n",
    "    # we need to find p and accuracy\n",
    "    # case 1: len(set(neighbour labels)) = 1\n",
    "    if len(neighbors_labels_set) == 1:\n",
    "        # neigb label consists only of true label\n",
    "        if true_label in neighbors_labels_set:\n",
    "            p = neighbors_labels[0]\n",
    "            accuracy = 1\n",
    "            return p, accuracy\n",
    "        # same but tl is not in neigh label\n",
    "        else:\n",
    "            # len(neighbors_labels_set) == 1 and true_label not in neighbors_labels_set:\n",
    "            p = neighbors_labels[0]\n",
    "            accuracy = 0\n",
    "            return p, accuracy\n",
    "    # case 2: neighbor labels are mixed values\n",
    "    else:\n",
    "        nominees = find_ties(neighbors_labels)\n",
    "        max_label = max(neighbors_labels, key = neighbors_labels.count)\n",
    "        # pred label is in the neigh labels and not in the nominees then it has the majority\n",
    "        if true_label == max_label and max_label not in nominees:\n",
    "            p = max_label\n",
    "            accuracy = 1\n",
    "            return p, accuracy\n",
    "        elif true_label != max_label and max_label not in nominees:\n",
    "            p = max_label\n",
    "            accuracy = 0\n",
    "            return p, accuracy\n",
    "        # tl is in nominees\n",
    "        elif true_label in nominees:\n",
    "            p = nominees\n",
    "            accuracy = 1/len(p)\n",
    "            return p, accuracy\n",
    "        else:\n",
    "            p = nominees\n",
    "            accuracy = 0\n",
    "            return p, accuracy\n",
    "            "
   ]
  },
  {
   "cell_type": "markdown",
   "metadata": {},
   "source": [
    "find_ties() is a helper function, that will examine the list of k_neighbours and retun a set of ties in the outcome"
   ]
  },
  {
   "cell_type": "code",
   "execution_count": 6,
   "metadata": {},
   "outputs": [],
   "source": [
    "def find_ties(outcomes):\n",
    "    # find number of labels in the final array\n",
    "    unique_items, counts = np.unique(outcomes, return_counts=True)\n",
    "    nominees = []\n",
    "    k = 0\n",
    "    for i in counts:\n",
    "        m = 0\n",
    "        for j in counts:\n",
    "            if i == j and unique_items[k] != unique_items[m]:\n",
    "                nominees.append(unique_items[k])\n",
    "            m += 1\n",
    "        k += 1\n",
    "    return set(nominees)"
   ]
  },
  {
   "cell_type": "markdown",
   "metadata": {},
   "source": [
    "## Start here"
   ]
  },
  {
   "cell_type": "code",
   "execution_count": 8,
   "metadata": {},
   "outputs": [
    {
     "name": "stdout",
     "output_type": "stream",
     "text": [
      "reached id:  20\n",
      "reached id:  40\n"
     ]
    },
    {
     "data": {
      "text/plain": [
       "[[0, -1.134532074382495, -1, 0],\n",
       " [1, -1.304796484490872, -1, 0],\n",
       " [2, -1.3331738861756015, -1, 0],\n",
       " [3, -1.248041681121413, -1, 0],\n",
       " [4, -1.3331738861756015, -1, 0],\n",
       " [5, -1.1912868777519539, -1, 0],\n",
       " [6, -1.248041681121413, -1, 0],\n",
       " [7, -1.361551287860331, -1, 0],\n",
       " [8, -1.2196642794366834, -1, 0],\n",
       " [9, -1.361551287860331, -1, 0],\n",
       " [10, -1.1061546726977654, -1, 0],\n",
       " [11, -1.134532074382495, -1, 0],\n",
       " [12, -1.2196642794366834, -1, 0],\n",
       " [13, -1.1061546726977654, -1, 0],\n",
       " [14, -1.1629094760672245, -1, 0],\n",
       " [15, -1.2764190828061426, -1, 0],\n",
       " [16, -1.2764190828061426, -1, 0],\n",
       " [17, -1.1061546726977654, -1, 0],\n",
       " [18, -1.304796484490872, -1, 0],\n",
       " [19, -1.304796484490872, -1, 0],\n",
       " [20, -1.2196642794366834, -1, 0],\n",
       " [21, -1.3331738861756015, -1, 0],\n",
       " [22, -1.2196642794366834, -1, 0],\n",
       " [23, -1.134532074382495, -1, 0],\n",
       " [24, -1.1912868777519539, -1, 0],\n",
       " [25, -1.248041681121413, -1, 0],\n",
       " [26, -1.361551287860331, -1, 0],\n",
       " [27, -1.248041681121413, -1, 0],\n",
       " [28, -1.134532074382495, -1, 0],\n",
       " [29, -1.3331738861756015, -1, 0],\n",
       " [30, -1.134532074382495, -1, 0],\n",
       " [31, -1.2196642794366834, -1, 0],\n",
       " [32, -1.1629094760672245, -1, 0],\n",
       " [33, -1.361551287860331, -1, 0],\n",
       " [34, -1.1061546726977654, -1, 0],\n",
       " [35, -1.2764190828061426, -1, 0],\n",
       " [36, -1.2196642794366834, -1, 0],\n",
       " [37, -1.248041681121413, -1, 0],\n",
       " [38, -1.1061546726977654, -1, 0],\n",
       " [39, -1.304796484490872, -1, 0],\n",
       " [40, -1.1629094760672245, -1, 0],\n",
       " [41, -1.2196642794366834, -1, 0],\n",
       " [42, -1.1912868777519539, -1, 0],\n",
       " [43, -1.2764190828061426, -1, 0],\n",
       " [44, -1.2764190828061426, -1, 0],\n",
       " [45, -1.1912868777519539, -1, 0],\n",
       " [46, -1.2764190828061426, -1, 0],\n",
       " [47, -1.304796484490872, -1, 0],\n",
       " [48, -1.2196642794366834, -1, 0],\n",
       " [49, -1.248041681121413, -1, 0]]"
      ]
     },
     "execution_count": 8,
     "metadata": {},
     "output_type": "execute_result"
    }
   ],
   "source": [
    "# load our training and testing sets\n",
    "data_train = np.loadtxt('UCI_Dataset/pendigits_training.txt')\n",
    "data_test = np.loadtxt('UCI_Dataset/pendigits_test.txt')\n",
    "k=5\n",
    "\n",
    "# normalize the data\n",
    "\n",
    "data_train = (data_train - np.mean(data_train))/np.std(data_train)\n",
    "data_test = (data_train - np.mean(data_train))/np.std(data_train)\n",
    "\n",
    "result = []\n",
    "id_=0\n",
    "for row in data_test[:50]:\n",
    "    p,a = predict2(row, k, data_train)\n",
    "    result.append([id_, row[-1], p, a])\n",
    "    id_ += 1\n",
    "    # print something to show that its working\n",
    "    if id_%20 == 0:\n",
    "        print('reached id: ', id_)\n",
    "# print results    \n",
    "result"
   ]
  },
  {
   "cell_type": "code",
   "execution_count": 25,
   "metadata": {},
   "outputs": [],
   "source": [
    "# save output to file:\n",
    "with open('5nn2.txt', 'w') as f:\n",
    "    for item in result:\n",
    "        f.write(\"%s\\n\" % item)"
   ]
  },
  {
   "cell_type": "code",
   "execution_count": 13,
   "metadata": {},
   "outputs": [
    {
     "data": {
      "text/plain": [
       "array([[-0.02781341,  1.47618888, -0.59536144, ..., -0.22645522,\n",
       "         1.41943408, -1.13453207],\n",
       "       [-1.36155129,  1.16403746, -0.59536144, ...,  1.47618888,\n",
       "        -1.19128688, -1.30479648],\n",
       "       [-1.36155129,  0.25596061, -0.48185184, ..., -0.90751286,\n",
       "        -1.36155129, -1.33317389],\n",
       "       ...,\n",
       "       [ 0.02894139,  1.47618888, -1.36155129, ..., -1.19128688,\n",
       "        -1.36155129, -1.24804168],\n",
       "       [ 1.47618888,  1.41943408,  0.34109281, ..., -1.36155129,\n",
       "        -1.21966428, -1.21966428],\n",
       "       [ 0.31271541,  0.48297982,  1.22079227, ...,  1.47618888,\n",
       "        -1.36155129, -1.33317389]])"
      ]
     },
     "execution_count": 13,
     "metadata": {},
     "output_type": "execute_result"
    }
   ],
   "source": [
    "data_train[:-1]"
   ]
  },
  {
   "cell_type": "markdown",
   "metadata": {},
   "source": [
    "End \n"
   ]
  }
 ],
 "metadata": {
  "kernelspec": {
   "display_name": "Python 3",
   "language": "python",
   "name": "python3"
  },
  "language_info": {
   "codemirror_mode": {
    "name": "ipython",
    "version": 3
   },
   "file_extension": ".py",
   "mimetype": "text/x-python",
   "name": "python",
   "nbconvert_exporter": "python",
   "pygments_lexer": "ipython3",
   "version": "3.6.6"
  }
 },
 "nbformat": 4,
 "nbformat_minor": 4
}
